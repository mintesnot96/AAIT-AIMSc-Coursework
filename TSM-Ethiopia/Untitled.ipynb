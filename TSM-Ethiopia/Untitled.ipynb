{
 "cells": [
  {
   "cell_type": "code",
   "execution_count": 5,
   "id": "8d5a385e",
   "metadata": {},
   "outputs": [
    {
     "ename": "NameError",
     "evalue": "name 'AntColonyRunner' is not defined",
     "output_type": "error",
     "traceback": [
      "\u001b[1;31m---------------------------------------------------------------------------\u001b[0m",
      "\u001b[1;31mNameError\u001b[0m                                 Traceback (most recent call last)",
      "Cell \u001b[1;32mIn[5], line 19\u001b[0m\n\u001b[0;32m     16\u001b[0m city_counts \u001b[38;5;241m=\u001b[39m [\u001b[38;5;241m5\u001b[39m, \u001b[38;5;241m10\u001b[39m, \u001b[38;5;241m15\u001b[39m, \u001b[38;5;241m20\u001b[39m, \u001b[38;5;241m21\u001b[39m]  \u001b[38;5;66;03m# Example subsets\u001b[39;00m\n\u001b[0;32m     18\u001b[0m \u001b[38;5;66;03m# Ensure to pass the correctly formatted list of cities\u001b[39;00m\n\u001b[1;32m---> 19\u001b[0m aco_results \u001b[38;5;241m=\u001b[39m \u001b[43mrun_aco_with_different_cities\u001b[49m\u001b[43m(\u001b[49m\u001b[43mcities_list\u001b[49m\u001b[43m,\u001b[49m\u001b[43m \u001b[49m\u001b[43mcity_counts\u001b[49m\u001b[43m,\u001b[49m\u001b[43m \u001b[49m\u001b[43mdistance_power\u001b[49m\u001b[38;5;241;43m=\u001b[39;49m\u001b[38;5;241;43m1\u001b[39;49m\u001b[43m,\u001b[49m\u001b[43m \u001b[49m\u001b[43mverbose\u001b[49m\u001b[38;5;241;43m=\u001b[39;49m\u001b[38;5;28;43;01mFalse\u001b[39;49;00m\u001b[43m,\u001b[49m\u001b[43m \u001b[49m\u001b[43mplot\u001b[49m\u001b[38;5;241;43m=\u001b[39;49m\u001b[38;5;28;43;01mFalse\u001b[39;49;00m\u001b[43m)\u001b[49m\n\u001b[0;32m     21\u001b[0m \u001b[38;5;66;03m# Proceed with plotting the results as before\u001b[39;00m\n\u001b[0;32m     22\u001b[0m plot_aco_results(aco_results)\n",
      "Cell \u001b[1;32mIn[5], line 9\u001b[0m, in \u001b[0;36mrun_aco_with_different_cities\u001b[1;34m(cities_list, city_counts, **kwargs)\u001b[0m\n\u001b[0;32m      6\u001b[0m \u001b[38;5;28;01mfor\u001b[39;00m count \u001b[38;5;129;01min\u001b[39;00m city_counts:\n\u001b[0;32m      7\u001b[0m     \u001b[38;5;66;03m# Make sure to use the list of tuples here\u001b[39;00m\n\u001b[0;32m      8\u001b[0m     subset_cities \u001b[38;5;241m=\u001b[39m cities_list[:count]  \u001b[38;5;66;03m# Take the first 'count' cities\u001b[39;00m\n\u001b[1;32m----> 9\u001b[0m     result_path \u001b[38;5;241m=\u001b[39m \u001b[43mAntColonyRunner\u001b[49m(subset_cities, \u001b[38;5;241m*\u001b[39m\u001b[38;5;241m*\u001b[39mkwargs)\n\u001b[0;32m     10\u001b[0m     result_distance \u001b[38;5;241m=\u001b[39m path_distance(result_path)\n\u001b[0;32m     11\u001b[0m     results\u001b[38;5;241m.\u001b[39mappend((count, result_distance))\n",
      "\u001b[1;31mNameError\u001b[0m: name 'AntColonyRunner' is not defined"
     ]
    }
   ],
   "source": [
    "# Assuming 'cities' is a dictionary as shown earlier, convert it to a sorted list of tuples\n",
    "cities_list = list(sorted(cities.items()))\n",
    "\n",
    "def run_aco_with_different_cities(cities_list, city_counts, **kwargs):\n",
    "    results = []\n",
    "    for count in city_counts:\n",
    "        # Make sure to use the list of tuples here\n",
    "        subset_cities = cities_list[:count]  # Take the first 'count' cities\n",
    "        result_path = AntColonyRunner(subset_cities, **kwargs)\n",
    "        result_distance = path_distance(result_path)\n",
    "        results.append((count, result_distance))\n",
    "    \n",
    "    return results\n",
    "\n",
    "# Now you can use cities_list which is correctly formatted for slicing\n",
    "city_counts = [5, 10, 15, 20, 21]  # Example subsets\n",
    "\n",
    "# Ensure to pass the correctly formatted list of cities\n",
    "aco_results = run_aco_with_different_cities(cities_list, city_counts, distance_power=1, verbose=False, plot=False)\n",
    "\n",
    "# Proceed with plotting the results as before\n",
    "plot_aco_results(aco_results)\n"
   ]
  },
  {
   "cell_type": "code",
   "execution_count": null,
   "id": "23b43d6a",
   "metadata": {},
   "outputs": [],
   "source": []
  }
 ],
 "metadata": {
  "kernelspec": {
   "display_name": "Python 3 (ipykernel)",
   "language": "python",
   "name": "python3"
  },
  "language_info": {
   "codemirror_mode": {
    "name": "ipython",
    "version": 3
   },
   "file_extension": ".py",
   "mimetype": "text/x-python",
   "name": "python",
   "nbconvert_exporter": "python",
   "pygments_lexer": "ipython3",
   "version": "3.11.5"
  }
 },
 "nbformat": 4,
 "nbformat_minor": 5
}
